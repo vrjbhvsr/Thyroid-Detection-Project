{
 "cells": [
  {
   "cell_type": "code",
   "execution_count": 1,
   "metadata": {},
   "outputs": [],
   "source": [
    "import pandas as pd\n",
    "from app_logger.logger import app_logger\n",
    "from datetime import datetime\n",
    "import shutil\n",
    "import os\n",
    "import re\n",
    "import json\n",
    "pd.set_option('display.Max_columns',None)"
   ]
  },
  {
   "cell_type": "code",
   "execution_count": 2,
   "metadata": {},
   "outputs": [],
   "source": [
    "class RawDataValidation:\n",
    "    def __init__(self,raw_data_directory):\n",
    "        self.logger = app_logger()\n",
    "        self.raw_data_directory = raw_data_directory\n",
    "\n",
    "\n",
    "    def create_data_directory(self):\n",
    "        try:\n",
    "            if not os.path.isdir(\"Data/\"):\n",
    "                os.makedirs(\"Data/\")\n",
    "            if not os.path.isdir(\"Train_logs/\"):\n",
    "                os.makedirs(\"Train_logs/\")\n",
    "        except OSError as o:\n",
    "            file = open(\"Train_Logs/directorylog.txt\",\"a+\")\n",
    "            self.logger.log(file,f'OSError: Error in directory creation {o}')\n",
    "            file.close()\n",
    "            raise OSError\n",
    "        \n",
    "\n",
    "    def raw_files_validations(self):\n",
    "         pass\n",
    "        \n",
    "    def extract_column_data(self,column_file):                                             \n",
    "            with open(column_file,'r') as file:\n",
    "                lines = file.readlines()\n",
    "                \n",
    "            column_names= {}\n",
    "            pattern= re.compile(r'^\\s*(.*):\\s*(.*)\\.$')\n",
    "            for line in lines:\n",
    "                match=pattern.match(line)\n",
    "            \n",
    "                if match:\n",
    "                    att = match.group(1)\n",
    "                    value = [value.strip() for value in match.group(2).split(\",\")]\n",
    "                    column_names[att] = value\n",
    "                    \n",
    "            return column_names\n",
    "    \n",
    "    def Data_file_validation(self,data_file):\n",
    "    \n",
    "            data= pd.read_csv(data_file,header=None)\n",
    "            no_need_column = data.iloc[:,-1:]\n",
    "            data = data.drop(no_need_column,inplace=True, axis=1)\n",
    "\n",
    "            return data\n",
    "\n",
    "    def combine_row_column(self,data_file,column_file):\n",
    "            column_name = self.extract_column_data(column_file)\n",
    "            data = self.Data_file_validation(data_file)\n",
    "            if column_name and data is not None:\n",
    "                data.columns = column_name.keys()\n",
    "                data_file_path = os.path.join(self.raw_data_directory, \"combined_data.csv\")\n",
    "                data.to_csv(data_file_path, index=False)\n",
    "                shutil.copy(data_file_path, \"Data/\")\n",
    "               \n",
    "        "
   ]
  },
  {
   "cell_type": "code",
   "execution_count": null,
   "metadata": {},
   "outputs": [],
   "source": []
  },
  {
   "cell_type": "code",
   "execution_count": 3,
   "metadata": {},
   "outputs": [],
   "source": [
    "raw_data_dir = r'C:\\Users\\49179\\Desktop\\Machine Learning Projects\\Thyroid Detection\\raw_data'\n",
    "obj = RawDataValidation(raw_data_dir)\n",
    "obj.create_data_directory()\n",
    "column_ = os.path.join(raw_data_dir, \"thyroid0387.names\")\n",
    "record = os.path.join(raw_data_dir, \"thyroid0387.data\")\n",
    "obj.combine_row_column(record,column_)\n"
   ]
  },
  {
   "cell_type": "code",
   "execution_count": 4,
   "metadata": {},
   "outputs": [],
   "source": [
    "data = pd.read_csv('Data\\Final_train_data.csv')"
   ]
  },
  {
   "cell_type": "code",
   "execution_count": 5,
   "metadata": {},
   "outputs": [
    {
     "data": {
      "text/html": [
       "<div>\n",
       "<style scoped>\n",
       "    .dataframe tbody tr th:only-of-type {\n",
       "        vertical-align: middle;\n",
       "    }\n",
       "\n",
       "    .dataframe tbody tr th {\n",
       "        vertical-align: top;\n",
       "    }\n",
       "\n",
       "    .dataframe thead th {\n",
       "        text-align: right;\n",
       "    }\n",
       "</style>\n",
       "<table border=\"1\" class=\"dataframe\">\n",
       "  <thead>\n",
       "    <tr style=\"text-align: right;\">\n",
       "      <th></th>\n",
       "      <th>age</th>\n",
       "      <th>sex</th>\n",
       "      <th>on_thyroxine</th>\n",
       "      <th>query_on_thyroxine</th>\n",
       "      <th>on_antithyroid_medication</th>\n",
       "      <th>sick</th>\n",
       "      <th>pregnant</th>\n",
       "      <th>thyroid_surgery</th>\n",
       "      <th>I131_treatment</th>\n",
       "      <th>query_hypothyroid</th>\n",
       "      <th>query_hyperthyroid</th>\n",
       "      <th>lithium</th>\n",
       "      <th>goitre</th>\n",
       "      <th>tumor</th>\n",
       "      <th>hypopituitary</th>\n",
       "      <th>psych</th>\n",
       "      <th>TSH_measured</th>\n",
       "      <th>TSH</th>\n",
       "      <th>T3_measured</th>\n",
       "      <th>T3</th>\n",
       "      <th>TT4_measured</th>\n",
       "      <th>TT4</th>\n",
       "      <th>T4U_measured</th>\n",
       "      <th>T4U</th>\n",
       "      <th>FTI_measured</th>\n",
       "      <th>FTI</th>\n",
       "      <th>TBG_measured</th>\n",
       "      <th>TBG</th>\n",
       "      <th>referral_source</th>\n",
       "      <th>Class</th>\n",
       "    </tr>\n",
       "  </thead>\n",
       "  <tbody>\n",
       "    <tr>\n",
       "      <th>0</th>\n",
       "      <td>29</td>\n",
       "      <td>F</td>\n",
       "      <td>f</td>\n",
       "      <td>f</td>\n",
       "      <td>f</td>\n",
       "      <td>f</td>\n",
       "      <td>f</td>\n",
       "      <td>f</td>\n",
       "      <td>f</td>\n",
       "      <td>t</td>\n",
       "      <td>f</td>\n",
       "      <td>f</td>\n",
       "      <td>f</td>\n",
       "      <td>f</td>\n",
       "      <td>f</td>\n",
       "      <td>f</td>\n",
       "      <td>t</td>\n",
       "      <td>0.3</td>\n",
       "      <td>f</td>\n",
       "      <td>?</td>\n",
       "      <td>f</td>\n",
       "      <td>?</td>\n",
       "      <td>f</td>\n",
       "      <td>?</td>\n",
       "      <td>f</td>\n",
       "      <td>?</td>\n",
       "      <td>f</td>\n",
       "      <td>?</td>\n",
       "      <td>other</td>\n",
       "      <td>-[840801013]</td>\n",
       "    </tr>\n",
       "    <tr>\n",
       "      <th>1</th>\n",
       "      <td>29</td>\n",
       "      <td>F</td>\n",
       "      <td>f</td>\n",
       "      <td>f</td>\n",
       "      <td>f</td>\n",
       "      <td>f</td>\n",
       "      <td>f</td>\n",
       "      <td>f</td>\n",
       "      <td>f</td>\n",
       "      <td>f</td>\n",
       "      <td>f</td>\n",
       "      <td>f</td>\n",
       "      <td>f</td>\n",
       "      <td>f</td>\n",
       "      <td>f</td>\n",
       "      <td>f</td>\n",
       "      <td>t</td>\n",
       "      <td>1.6</td>\n",
       "      <td>t</td>\n",
       "      <td>1.9</td>\n",
       "      <td>t</td>\n",
       "      <td>128</td>\n",
       "      <td>f</td>\n",
       "      <td>?</td>\n",
       "      <td>f</td>\n",
       "      <td>?</td>\n",
       "      <td>f</td>\n",
       "      <td>?</td>\n",
       "      <td>other</td>\n",
       "      <td>-[840801014]</td>\n",
       "    </tr>\n",
       "    <tr>\n",
       "      <th>2</th>\n",
       "      <td>41</td>\n",
       "      <td>F</td>\n",
       "      <td>f</td>\n",
       "      <td>f</td>\n",
       "      <td>f</td>\n",
       "      <td>f</td>\n",
       "      <td>f</td>\n",
       "      <td>f</td>\n",
       "      <td>f</td>\n",
       "      <td>f</td>\n",
       "      <td>t</td>\n",
       "      <td>f</td>\n",
       "      <td>f</td>\n",
       "      <td>f</td>\n",
       "      <td>f</td>\n",
       "      <td>f</td>\n",
       "      <td>f</td>\n",
       "      <td>?</td>\n",
       "      <td>f</td>\n",
       "      <td>?</td>\n",
       "      <td>f</td>\n",
       "      <td>?</td>\n",
       "      <td>f</td>\n",
       "      <td>?</td>\n",
       "      <td>f</td>\n",
       "      <td>?</td>\n",
       "      <td>t</td>\n",
       "      <td>11</td>\n",
       "      <td>other</td>\n",
       "      <td>-[840801042]</td>\n",
       "    </tr>\n",
       "    <tr>\n",
       "      <th>3</th>\n",
       "      <td>36</td>\n",
       "      <td>F</td>\n",
       "      <td>f</td>\n",
       "      <td>f</td>\n",
       "      <td>f</td>\n",
       "      <td>f</td>\n",
       "      <td>f</td>\n",
       "      <td>f</td>\n",
       "      <td>f</td>\n",
       "      <td>f</td>\n",
       "      <td>f</td>\n",
       "      <td>f</td>\n",
       "      <td>f</td>\n",
       "      <td>f</td>\n",
       "      <td>f</td>\n",
       "      <td>f</td>\n",
       "      <td>f</td>\n",
       "      <td>?</td>\n",
       "      <td>f</td>\n",
       "      <td>?</td>\n",
       "      <td>f</td>\n",
       "      <td>?</td>\n",
       "      <td>f</td>\n",
       "      <td>?</td>\n",
       "      <td>f</td>\n",
       "      <td>?</td>\n",
       "      <td>t</td>\n",
       "      <td>26</td>\n",
       "      <td>other</td>\n",
       "      <td>-[840803046]</td>\n",
       "    </tr>\n",
       "    <tr>\n",
       "      <th>4</th>\n",
       "      <td>32</td>\n",
       "      <td>F</td>\n",
       "      <td>f</td>\n",
       "      <td>f</td>\n",
       "      <td>f</td>\n",
       "      <td>f</td>\n",
       "      <td>f</td>\n",
       "      <td>f</td>\n",
       "      <td>f</td>\n",
       "      <td>f</td>\n",
       "      <td>f</td>\n",
       "      <td>f</td>\n",
       "      <td>f</td>\n",
       "      <td>f</td>\n",
       "      <td>f</td>\n",
       "      <td>f</td>\n",
       "      <td>f</td>\n",
       "      <td>?</td>\n",
       "      <td>f</td>\n",
       "      <td>?</td>\n",
       "      <td>f</td>\n",
       "      <td>?</td>\n",
       "      <td>f</td>\n",
       "      <td>?</td>\n",
       "      <td>f</td>\n",
       "      <td>?</td>\n",
       "      <td>t</td>\n",
       "      <td>36</td>\n",
       "      <td>other</td>\n",
       "      <td>S[840803047]</td>\n",
       "    </tr>\n",
       "  </tbody>\n",
       "</table>\n",
       "</div>"
      ],
      "text/plain": [
       "   age sex on_thyroxine query_on_thyroxine on_antithyroid_medication sick  \\\n",
       "0   29   F            f                  f                         f    f   \n",
       "1   29   F            f                  f                         f    f   \n",
       "2   41   F            f                  f                         f    f   \n",
       "3   36   F            f                  f                         f    f   \n",
       "4   32   F            f                  f                         f    f   \n",
       "\n",
       "  pregnant thyroid_surgery I131_treatment query_hypothyroid  \\\n",
       "0        f               f              f                 t   \n",
       "1        f               f              f                 f   \n",
       "2        f               f              f                 f   \n",
       "3        f               f              f                 f   \n",
       "4        f               f              f                 f   \n",
       "\n",
       "  query_hyperthyroid lithium goitre tumor hypopituitary psych TSH_measured  \\\n",
       "0                  f       f      f     f             f     f            t   \n",
       "1                  f       f      f     f             f     f            t   \n",
       "2                  t       f      f     f             f     f            f   \n",
       "3                  f       f      f     f             f     f            f   \n",
       "4                  f       f      f     f             f     f            f   \n",
       "\n",
       "   TSH T3_measured   T3 TT4_measured  TT4 T4U_measured T4U FTI_measured FTI  \\\n",
       "0  0.3           f    ?            f    ?            f   ?            f   ?   \n",
       "1  1.6           t  1.9            t  128            f   ?            f   ?   \n",
       "2    ?           f    ?            f    ?            f   ?            f   ?   \n",
       "3    ?           f    ?            f    ?            f   ?            f   ?   \n",
       "4    ?           f    ?            f    ?            f   ?            f   ?   \n",
       "\n",
       "  TBG_measured TBG referral_source         Class  \n",
       "0            f   ?           other  -[840801013]  \n",
       "1            f   ?           other  -[840801014]  \n",
       "2            t  11           other  -[840801042]  \n",
       "3            t  26           other  -[840803046]  \n",
       "4            t  36           other  S[840803047]  "
      ]
     },
     "execution_count": 5,
     "metadata": {},
     "output_type": "execute_result"
    }
   ],
   "source": [
    "data.head()"
   ]
  },
  {
   "cell_type": "markdown",
   "metadata": {},
   "source": []
  },
  {
   "cell_type": "code",
   "execution_count": 6,
   "metadata": {},
   "outputs": [
    {
     "data": {
      "text/plain": [
       "(9172, 30)"
      ]
     },
     "execution_count": 6,
     "metadata": {},
     "output_type": "execute_result"
    }
   ],
   "source": [
    "data.shape"
   ]
  },
  {
   "cell_type": "code",
   "execution_count": 7,
   "metadata": {},
   "outputs": [
    {
     "data": {
      "text/plain": [
       "Index(['age', 'sex', 'on_thyroxine', 'query_on_thyroxine',\n",
       "       'on_antithyroid_medication', 'sick', 'pregnant', 'thyroid_surgery',\n",
       "       'I131_treatment', 'query_hypothyroid', 'query_hyperthyroid', 'lithium',\n",
       "       'goitre', 'tumor', 'hypopituitary', 'psych', 'TSH_measured', 'TSH',\n",
       "       'T3_measured', 'T3', 'TT4_measured', 'TT4', 'T4U_measured', 'T4U',\n",
       "       'FTI_measured', 'FTI', 'TBG_measured', 'TBG', 'referral_source',\n",
       "       'Class'],\n",
       "      dtype='object')"
      ]
     },
     "execution_count": 7,
     "metadata": {},
     "output_type": "execute_result"
    }
   ],
   "source": [
    "data.columns"
   ]
  },
  {
   "cell_type": "code",
   "execution_count": 8,
   "metadata": {},
   "outputs": [
    {
     "name": "stderr",
     "output_type": "stream",
     "text": [
      "C:\\Users\\49179\\AppData\\Local\\Temp\\ipykernel_24692\\2067485902.py:7: SettingWithCopyWarning: \n",
      "A value is trying to be set on a copy of a slice from a DataFrame\n",
      "\n",
      "See the caveats in the documentation: https://pandas.pydata.org/pandas-docs/stable/user_guide/indexing.html#returning-a-view-versus-a-copy\n",
      "  data['Class'][i]= \"Nagetive\"\n",
      "C:\\Users\\49179\\AppData\\Local\\Temp\\ipykernel_24692\\2067485902.py:10: SettingWithCopyWarning: \n",
      "A value is trying to be set on a copy of a slice from a DataFrame\n",
      "\n",
      "See the caveats in the documentation: https://pandas.pydata.org/pandas-docs/stable/user_guide/indexing.html#returning-a-view-versus-a-copy\n",
      "  data['Class'][i] = ''.join(x)\n"
     ]
    }
   ],
   "source": [
    "import numpy as np\n",
    "num = len(data['Class'].unique())\n",
    "\n",
    "for i in range(num):\n",
    "    pattern = r'[A-Za-z]+'\n",
    "    if str(data['Class'][i]).startswith('-'):\n",
    "        data['Class'][i]= \"Nagetive\"\n",
    "    else:\n",
    "        x = re.findall(pattern,data['Class'][i])\n",
    "        data['Class'][i] = ''.join(x)\n",
    "        \n",
    "df = data.copy()"
   ]
  },
  {
   "cell_type": "code",
   "execution_count": 9,
   "metadata": {},
   "outputs": [
    {
     "data": {
      "text/plain": [
       "array(['Nagetive', 'S', 'F', 'AK', 'R', 'I', 'M', 'N', 'G', 'K', 'A',\n",
       "       'KJ', 'L', 'MK', 'Q', 'J', 'CI', 'O', 'LJ', 'HK', 'D', 'GK', 'MI',\n",
       "       'P', 'FK', 'B', 'GI', 'C', 'GKJ', 'OI', 'DR', 'E'], dtype=object)"
      ]
     },
     "execution_count": 9,
     "metadata": {},
     "output_type": "execute_result"
    }
   ],
   "source": [
    "df['Class'].unique()"
   ]
  },
  {
   "cell_type": "code",
   "execution_count": 10,
   "metadata": {},
   "outputs": [],
   "source": [
    "class RawFilesValidation:\n",
    "    def __init__(self,raw_data_directory):\n",
    "        self.raw_data_directory = raw_data_directory\n",
    "        self.logger = app_logger()\n",
    "        self.schema = 'schema_training.json'\n",
    "\n",
    "    def train_dataset(self,data_file):\n",
    "        with open(self.schema,'r') as f:\n",
    "            name = json.load(f)\n",
    "            f.close()\n",
    "        column_names = name['ColName']\n",
    "        number_of_columns = name['NumberofColumns']\n",
    "        data = pd.read_csv(data_file,header=None)\n",
    "        if data and column_names:\n",
    "            data.columns = self.column_names.keys()\n",
    "            data_file_path = os.path.join(self.raw_data_directory,\"final_train_data.csv\")\n",
    "            data.to_csv(data_file_path,index=False)\n",
    "            shutil.move(data_file_path,'Data/')\n",
    "        "
   ]
  },
  {
   "cell_type": "code",
   "execution_count": 11,
   "metadata": {},
   "outputs": [
    {
     "data": {
      "text/plain": [
       "dict_keys(['age', 'sex', 'on_thyroxine', 'query_on_thyroxine', 'on_antithyroid_medication', 'sick', 'pregnant', 'thyroid_surgery', 'I131_treatment', 'query_hypothyroid', 'query_hyperthyroid', 'lithium', 'goitre', 'tumor', 'hypopituitary', 'psych', 'TSH_measured', 'TSH', 'T3_measured', 'T3', 'TT4_measured', 'TT4', 'T4U_measured', 'T4U', 'FTI_measured', 'FTI', 'TBG_measured', 'TBG', 'referral_source', 'Class'])"
      ]
     },
     "execution_count": 11,
     "metadata": {},
     "output_type": "execute_result"
    }
   ],
   "source": [
    "file = 'schema_training.json'\n",
    "with open(file,'r') as f:\n",
    "            name = json.load(f)\n",
    "            f.close()\n",
    "column_names = name['ColName']\n",
    "column_names.keys()"
   ]
  },
  {
   "cell_type": "code",
   "execution_count": 12,
   "metadata": {},
   "outputs": [],
   "source": [
    "import sqlite3\n",
    "connection = sqlite3.connect(\"./training.db\")\n",
    "cursor = connection.cursor()\n",
    "cursor.execute(\"SELECT count(name) from sqlite_master WHERE type = 'table' and name = 'GoodRawData'\")\n",
    "if cursor.fetchone()[0] == 1:\n",
    "    connection.close()\n",
    "else:\n",
    "    for keys in column_names.keys():\n",
    "        types = column_names[keys]\n",
    "        try:\n",
    "            cursor.execute(\"ALTER TABLE GoodRawData ADD COLUMN '{Cname}' {dtypes}\".format(Cname = keys, dtypes = types))\n",
    "        except:\n",
    "            cursor.execute(\"CREATE TABLE GoodRawData({Cname} {dtypes})\".format(Cname = keys, dtypes = types))"
   ]
  },
  {
   "cell_type": "code",
   "execution_count": null,
   "metadata": {},
   "outputs": [],
   "source": [
    "import csv\n",
    "connection = sqlite3.connect(\"./training.db\")\n",
    "cursor = connection.cursor()\n",
    "fi = [files for files in os.listdir(r'Data/')]\n",
    "keys = [key for key in column_names.keys()]\n",
    "path = 'Data/'\n",
    "for file in fi:\n",
    "    with open (path+file,'r') as f:\n",
    "        next(f)\n",
    "        read = csv.reader(f,delimiter='\\n')\n",
    "        for l in read:\n",
    "            row_values = l[0].split(\",\")\n",
    "            cursor.execute('INSERT INTO GoodRawData VALUES (?, ?, ?, ?, ?, ?, ?, ?, ?, ?, ?, ?, ?, ?, ?, ?, ?, ?, ?, ?, ?, ?, ?, ?, ?, ?, ?, ?, ?, ?)',\n",
    "                           row_values)\n",
    "            connection.commit()\n",
    "connection.close()\n",
    "                \n",
    "\n"
   ]
  },
  {
   "cell_type": "code",
   "execution_count": 28,
   "metadata": {},
   "outputs": [],
   "source": [
    "connection = sqlite3.connect(\"./training.db\")\n",
    "cursor = connection.cursor()\n",
    "sql_query = 'SELECT * FROM GoodRawData'\n",
    "cursor.execute(sql_query)\n",
    "result = cursor.fetchall()\n",
    "header = [i[0] for i in cursor.description]\n",
    "csv_file = csv.writer(open('extra.csv','w',newline=\"\"),delimiter=',', lineterminator='\\r\\n',quoting=csv.QUOTE_ALL, escapechar='\\\\')\n",
    "csv_file.writerow(header)\n",
    "csv_file.writerows(result)\n"
   ]
  },
  {
   "cell_type": "code",
   "execution_count": 27,
   "metadata": {},
   "outputs": [
    {
     "data": {
      "text/plain": [
       "(('age', None, None, None, None, None, None),\n",
       " ('sex', None, None, None, None, None, None),\n",
       " ('on_thyroxine', None, None, None, None, None, None),\n",
       " ('query_on_thyroxine', None, None, None, None, None, None),\n",
       " ('on_antithyroid_medication', None, None, None, None, None, None),\n",
       " ('sick', None, None, None, None, None, None),\n",
       " ('pregnant', None, None, None, None, None, None),\n",
       " ('thyroid_surgery', None, None, None, None, None, None),\n",
       " ('I131_treatment', None, None, None, None, None, None),\n",
       " ('query_hypothyroid', None, None, None, None, None, None),\n",
       " ('query_hyperthyroid', None, None, None, None, None, None),\n",
       " ('lithium', None, None, None, None, None, None),\n",
       " ('goitre', None, None, None, None, None, None),\n",
       " ('tumor', None, None, None, None, None, None),\n",
       " ('hypopituitary', None, None, None, None, None, None),\n",
       " ('psych', None, None, None, None, None, None),\n",
       " ('TSH_measured', None, None, None, None, None, None),\n",
       " ('TSH', None, None, None, None, None, None),\n",
       " ('T3_measured', None, None, None, None, None, None),\n",
       " ('T3', None, None, None, None, None, None),\n",
       " ('TT4_measured', None, None, None, None, None, None),\n",
       " ('TT4', None, None, None, None, None, None),\n",
       " ('T4U_measured', None, None, None, None, None, None),\n",
       " ('T4U', None, None, None, None, None, None),\n",
       " ('FTI_measured', None, None, None, None, None, None),\n",
       " ('FTI', None, None, None, None, None, None),\n",
       " ('TBG_measured', None, None, None, None, None, None),\n",
       " ('TBG', None, None, None, None, None, None),\n",
       " ('referral_source', None, None, None, None, None, None),\n",
       " ('Class', None, None, None, None, None, None))"
      ]
     },
     "execution_count": 27,
     "metadata": {},
     "output_type": "execute_result"
    }
   ],
   "source": [
    "cursor.description"
   ]
  },
  {
   "cell_type": "code",
   "execution_count": 1,
   "metadata": {},
   "outputs": [
    {
     "data": {
      "text/plain": [
       "'bbc'"
      ]
     },
     "execution_count": 1,
     "metadata": {},
     "output_type": "execute_result"
    }
   ],
   "source": [
    "x= 'abc'\n",
    "x.replace('a','b')"
   ]
  },
  {
   "cell_type": "code",
   "execution_count": 8,
   "metadata": {},
   "outputs": [],
   "source": [
    "import pandas as pd\n",
    "csv = pd.read_csv(r'C:\\Users\\49179\\Desktop\\Machine Learning Projects\\Thyroid Detection\\Data\\Final_train_data.csv')\n",
    "columns = ['sex', 'on_thyroxine', 'query_on_thyroxine', 'on_antithyroid_medication', 'sick', 'pregnant',\n",
    "                           'thyroid_surgery', 'I131_treatment', 'query_hypothyroid', 'query_hyperthyroid', 'lithium',\n",
    "                           'goitre', 'tumor', 'hypopituitary', 'psych', 'TSH_measured', 'T3_measured', 'TT4_measured',\n",
    "                           'T4U_measured', 'FTI_measured', 'TBG_measured', 'TBG', 'referral_source', 'Class']\n",
    "for column in csv.columns:\n",
    "    if column in columns:\n",
    "        csv[column] = csv[column].apply(lambda x: \"'\" + str(x) + \"'\")"
   ]
  },
  {
   "cell_type": "code",
   "execution_count": 9,
   "metadata": {},
   "outputs": [
    {
     "data": {
      "text/plain": [
       "Index(['age', 'sex', 'on_thyroxine', 'query_on_thyroxine',\n",
       "       'on_antithyroid_medication', 'sick', 'pregnant', 'thyroid_surgery',\n",
       "       'I131_treatment', 'query_hypothyroid', 'query_hyperthyroid', 'lithium',\n",
       "       'goitre', 'tumor', 'hypopituitary', 'psych', 'TSH_measured', 'TSH',\n",
       "       'T3_measured', 'T3', 'TT4_measured', 'TT4', 'T4U_measured', 'T4U',\n",
       "       'FTI_measured', 'FTI', 'TBG_measured', 'TBG', 'referral_source',\n",
       "       'Class'],\n",
       "      dtype='object')"
      ]
     },
     "execution_count": 9,
     "metadata": {},
     "output_type": "execute_result"
    }
   ],
   "source": [
    "csv.columns"
   ]
  },
  {
   "cell_type": "code",
   "execution_count": null,
   "metadata": {},
   "outputs": [],
   "source": []
  }
 ],
 "metadata": {
  "kernelspec": {
   "display_name": "Python 3 (ipykernel)",
   "language": "python",
   "name": "python3"
  },
  "language_info": {
   "codemirror_mode": {
    "name": "ipython",
    "version": 3
   },
   "file_extension": ".py",
   "mimetype": "text/x-python",
   "name": "python",
   "nbconvert_exporter": "python",
   "pygments_lexer": "ipython3",
   "version": "3.11.4"
  }
 },
 "nbformat": 4,
 "nbformat_minor": 2
}
